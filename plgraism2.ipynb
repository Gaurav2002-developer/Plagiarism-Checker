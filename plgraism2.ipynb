{
 "cells": [
  {
   "cell_type": "code",
   "execution_count": 1,
   "id": "a9ba5c65-4e08-44cd-b7c7-2adab2617844",
   "metadata": {},
   "outputs": [],
   "source": [
    "import nltk\n",
    "from sklearn.metrics.pairwise import cosine_similarity\n",
    "import pandas as pd\n",
    "import string\n",
    "from nltk.corpus import stopwords\n",
    "import joblib\n",
    "from sklearn.linear_model import LogisticRegression\n",
    "from sklearn.model_selection import train_test_split\n",
    "from sklearn.metrics import accuracy_score, classification_report,confusion_matrix\n",
    "from sklearn.feature_extraction.text import TfidfVectorizer"
   ]
  },
  {
   "cell_type": "code",
   "execution_count": 2,
   "id": "21230c1b-09ce-442e-97be-61c5d67a3c5e",
   "metadata": {},
   "outputs": [
    {
     "name": "stdout",
     "output_type": "stream",
     "text": [
      "   Unnamed: 0                                        source_text  \\\n",
      "0           0  Researchers have discovered a new species of b...   \n",
      "1           1  The moon orbits the Earth in approximately 27....   \n",
      "2           2  Water is composed of two hydrogen atoms and on...   \n",
      "3           3          The history of Rome dates back to 753 BC.   \n",
      "4           4  Pluto was once considered the ninth planet in ...   \n",
      "\n",
      "                                    plagiarized_text  label  \n",
      "0  Scientists have found a previously unknown but...      1  \n",
      "1  Our natural satellite takes around 27.3 days t...      1  \n",
      "2  H2O consists of 2 hydrogen atoms and 1 oxygen ...      1  \n",
      "3  Rome has a long history that can be traced bac...      1  \n",
      "4  In the past, Pluto was classified as the ninth...      1  \n"
     ]
    }
   ],
   "source": [
    "data = pd.read_csv(\"dataset.csv\")\n",
    "print(data.head())"
   ]
  },
  {
   "cell_type": "code",
   "execution_count": 3,
   "id": "ee99d3cf-5e44-412b-8e3b-4542f2885dff",
   "metadata": {},
   "outputs": [
    {
     "data": {
      "text/plain": [
       "(370, 4)"
      ]
     },
     "execution_count": 3,
     "metadata": {},
     "output_type": "execute_result"
    }
   ],
   "source": [
    "data.shape"
   ]
  },
  {
   "cell_type": "code",
   "execution_count": 4,
   "id": "fb02058f-0467-4437-8850-f6ae88913d23",
   "metadata": {},
   "outputs": [
    {
     "data": {
      "text/plain": [
       "<bound method IndexOpsMixin.value_counts of 0      1\n",
       "1      1\n",
       "2      1\n",
       "3      1\n",
       "4      1\n",
       "      ..\n",
       "365    0\n",
       "366    0\n",
       "367    0\n",
       "368    0\n",
       "369    0\n",
       "Name: label, Length: 370, dtype: int64>"
      ]
     },
     "execution_count": 4,
     "metadata": {},
     "output_type": "execute_result"
    }
   ],
   "source": [
    "data['label'].value_counts"
   ]
  },
  {
   "cell_type": "code",
   "execution_count": 5,
   "id": "b5e838d9-089c-4f1e-b5df-57458b34e97f",
   "metadata": {},
   "outputs": [
    {
     "data": {
      "text/plain": [
       "'text use dummy'"
      ]
     },
     "execution_count": 5,
     "metadata": {},
     "output_type": "execute_result"
    }
   ],
   "source": [
    "def pro_text(text):\n",
    "    #text= text.translate(str.maketrans(\"\",\"\", string.punctuation))\n",
    "    text = ''.join(char for char in text if char not in string.punctuation)\n",
    "    text= text.lower()\n",
    "    stop_words= set(stopwords.words('english'))\n",
    "    text= \" \".join((word for word in text.split() if word not in stop_words))\n",
    "\n",
    "    return text\n",
    "\n",
    "pro_text(\"This is #$%^@%?! MY TEXT to use my dummy \")"
   ]
  },
  {
   "cell_type": "code",
   "execution_count": 6,
   "id": "6f5cbecb-cfd5-4dbf-a290-adee9ce3b0d9",
   "metadata": {},
   "outputs": [],
   "source": [
    "data['source_text']  = data['source_text'].apply(pro_text)\n",
    "data['plagiarized_text']  = data['plagiarized_text'].apply(pro_text)"
   ]
  },
  {
   "cell_type": "code",
   "execution_count": 21,
   "id": "de08e3c3-a953-47bd-b00f-d907de499964",
   "metadata": {},
   "outputs": [
    {
     "data": {
      "text/plain": [
       "'honey bees communicate series dance movements'"
      ]
     },
     "execution_count": 21,
     "metadata": {},
     "output_type": "execute_result"
    }
   ],
   "source": [
    "data['source_text'][50]"
   ]
  },
  {
   "cell_type": "code",
   "execution_count": 8,
   "id": "bfb2e351-8ba5-403c-85cd-d5fa45801828",
   "metadata": {},
   "outputs": [],
   "source": [
    "tfidf_vectorizer = TfidfVectorizer()\n",
    "X = tfidf_vectorizer.fit_transform(data[\"source_text\"] + \" \" + data[\"plagiarized_text\"])"
   ]
  },
  {
   "cell_type": "code",
   "execution_count": 9,
   "id": "218a3af7-76cc-4282-b5a9-156d26bc969a",
   "metadata": {
    "scrolled": true
   },
   "outputs": [],
   "source": [
    "y =data['label']"
   ]
  },
  {
   "cell_type": "code",
   "execution_count": 10,
   "id": "d4713855-be9c-41c5-8bcb-51c67e9b9bdf",
   "metadata": {},
   "outputs": [],
   "source": [
    "X_train, X_test, y_train, y_test = train_test_split(X,y,test_size=0.2)"
   ]
  },
  {
   "cell_type": "code",
   "execution_count": 11,
   "id": "76984f83-ca00-4057-b28a-a196964de24e",
   "metadata": {},
   "outputs": [
    {
     "name": "stdout",
     "output_type": "stream",
     "text": [
      "accuracy score 0.8513513513513513\n",
      "classification report               precision    recall  f1-score   support\n",
      "\n",
      "           0       0.78      0.94      0.85        34\n",
      "           1       0.94      0.78      0.85        40\n",
      "\n",
      "    accuracy                           0.85        74\n",
      "   macro avg       0.86      0.86      0.85        74\n",
      "weighted avg       0.87      0.85      0.85        74\n",
      "\n",
      "confusion  [[32  2]\n",
      " [ 9 31]]\n"
     ]
    }
   ],
   "source": [
    "model = LogisticRegression()\n",
    "model.fit(X_train, y_train)\n",
    "\n",
    "y_pred = model.predict(X_test)\n",
    "\n",
    "print(\"accuracy score\", accuracy_score(y_test, y_pred))\n",
    "print(\"classification report\", classification_report(y_test, y_pred))\n",
    "print(\"confusion \" ,confusion_matrix(y_test, y_pred))\n"
   ]
  },
  {
   "cell_type": "code",
   "execution_count": 12,
   "id": "fcfb106f-85f3-4732-816c-20c15edf3514",
   "metadata": {},
   "outputs": [
    {
     "name": "stdout",
     "output_type": "stream",
     "text": [
      "accuracy score 0.7567567567567568\n",
      "classification report               precision    recall  f1-score   support\n",
      "\n",
      "           0       0.65      1.00      0.79        34\n",
      "           1       1.00      0.55      0.71        40\n",
      "\n",
      "    accuracy                           0.76        74\n",
      "   macro avg       0.83      0.78      0.75        74\n",
      "weighted avg       0.84      0.76      0.75        74\n",
      "\n",
      "confusion  [[34  0]\n",
      " [18 22]]\n"
     ]
    }
   ],
   "source": [
    "from sklearn.ensemble import RandomForestClassifier\n",
    "\n",
    "model = RandomForestClassifier(n_estimators= 100)\n",
    "model.fit(X_train, y_train)\n",
    "\n",
    "y_pred = model.predict(X_test)\n",
    "\n",
    "print(\"accuracy score\", accuracy_score(y_test, y_pred))\n",
    "print(\"classification report\", classification_report(y_test, y_pred))\n",
    "print(\"confusion \" ,confusion_matrix(y_test, y_pred))"
   ]
  },
  {
   "cell_type": "raw",
   "id": "339d4b66-ce83-41a5-97a2-2705a07a4796",
   "metadata": {},
   "source": [
    "SVM"
   ]
  },
  {
   "cell_type": "code",
   "execution_count": 13,
   "id": "bd6e61a3-8be2-4db6-8a63-e85eef79bbf1",
   "metadata": {},
   "outputs": [
    {
     "name": "stdout",
     "output_type": "stream",
     "text": [
      "accuracy score 0.8648648648648649\n",
      "classification report               precision    recall  f1-score   support\n",
      "\n",
      "           0       0.82      0.91      0.86        34\n",
      "           1       0.92      0.82      0.87        40\n",
      "\n",
      "    accuracy                           0.86        74\n",
      "   macro avg       0.87      0.87      0.86        74\n",
      "weighted avg       0.87      0.86      0.87        74\n",
      "\n",
      "confusion  [[31  3]\n",
      " [ 7 33]]\n"
     ]
    }
   ],
   "source": [
    "from sklearn.svm import SVC\n",
    "\n",
    "model=SVC(kernel = 'linear')\n",
    "\n",
    "model.fit(X_train, y_train)\n",
    "\n",
    "y_pred = model.predict(X_test)\n",
    "\n",
    "print(\"accuracy score\", accuracy_score(y_test, y_pred))\n",
    "print(\"classification report\", classification_report(y_test, y_pred))\n",
    "print(\"confusion \" ,confusion_matrix(y_test, y_pred))\n"
   ]
  },
  {
   "cell_type": "code",
   "execution_count": 14,
   "id": "4242e8a8-eb36-44fb-93b1-fd7b65f7e172",
   "metadata": {},
   "outputs": [],
   "source": [
    "import pickle\n",
    "\n",
    "pickle.dump(model,open(\"model.pkl\",'wb'))\n",
    "pickle.dump(tfidf_vectorizer, open('tfidf_vectorizer.pkl','wb'))"
   ]
  },
  {
   "cell_type": "code",
   "execution_count": 15,
   "id": "be08dd0d-6c72-4442-9030-8ebe2c14353a",
   "metadata": {},
   "outputs": [],
   "source": [
    "model = pickle.load(open('model.pkl','rb'))\n",
    "tfidf_vectorizer = pickle.load(open('tfidf_vectorizer.pkl','rb'))"
   ]
  },
  {
   "cell_type": "code",
   "execution_count": 16,
   "id": "c6f3a212-8bf1-4632-8c22-d814f3429cd1",
   "metadata": {},
   "outputs": [],
   "source": [
    "def detect(input_text):\n",
    "    vectorized_text= tfidf_vectorizer.transform([input_text])\n",
    "    result = model.predict(vectorized_text)\n",
    "    return \"Plagiarism Detected\" if result[0] == 1 else \"No Detection\""
   ]
  },
  {
   "cell_type": "code",
   "execution_count": 17,
   "id": "cb539f04-4c4a-4e35-9378-58f150b227f5",
   "metadata": {},
   "outputs": [
    {
     "data": {
      "text/plain": [
       "'No Detection'"
      ]
     },
     "execution_count": 17,
     "metadata": {},
     "output_type": "execute_result"
    }
   ],
   "source": [
    "input_text=\"playing musical instruments enhances creativity\"\n",
    "detect(input_text)"
   ]
  },
  {
   "cell_type": "code",
   "execution_count": null,
   "id": "fe680fd2-62a4-4efc-84f2-1522bfccdf19",
   "metadata": {},
   "outputs": [],
   "source": []
  }
 ],
 "metadata": {
  "kernelspec": {
   "display_name": "Python 3 (ipykernel)",
   "language": "python",
   "name": "python3"
  },
  "language_info": {
   "codemirror_mode": {
    "name": "ipython",
    "version": 3
   },
   "file_extension": ".py",
   "mimetype": "text/x-python",
   "name": "python",
   "nbconvert_exporter": "python",
   "pygments_lexer": "ipython3",
   "version": "3.12.4"
  }
 },
 "nbformat": 4,
 "nbformat_minor": 5
}
